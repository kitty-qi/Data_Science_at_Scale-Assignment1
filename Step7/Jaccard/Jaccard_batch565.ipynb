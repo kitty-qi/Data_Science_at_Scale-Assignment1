version https://git-lfs.github.com/spec/v1
oid sha256:3e65517dff4f89adffdd3360396566d46e5b00c1adeb07a59503a6b822330d5d
size 254834
