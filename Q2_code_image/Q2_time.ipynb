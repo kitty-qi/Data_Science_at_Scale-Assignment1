version https://git-lfs.github.com/spec/v1
oid sha256:0a461fd42a7094a1fd8e0ff516e2e46b59385f6574361ee6cf48de981156ea39
size 66745
